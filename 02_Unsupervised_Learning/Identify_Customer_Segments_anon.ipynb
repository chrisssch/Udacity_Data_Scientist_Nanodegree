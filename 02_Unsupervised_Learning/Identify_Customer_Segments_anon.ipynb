{
 "cells": [
  {
   "cell_type": "markdown",
   "metadata": {},
   "source": [
    "# Project: Identify Customer Segments\n",
    "\n",
    "Data cleaning, principal components analysis, and clustering in Python.\n",
    "\n",
    "Author: Christoph Schauer\n",
    "Date: 15/11/2018\n",
    "\n",
    "----\n",
    "## Introduction\n",
    "\n",
    "This jupyter notebook is an updated version of my course project for the module Unsupervised Learning of [Udacity's Data Scientist Nanodegree](https://www.udacity.com/course/data-scientist-nanodegree--nd025). \n",
    "\n",
    "From the description of the project:\n",
    "\n",
    "*In this project, you will apply unsupervised learning techniques to identify segments of the population that form the core customer base for a company. These segments can then be used to direct marketing campaigns towards audiences that will have the highest expected rate of returns. The data that you will use has been provided by our partner.*\n",
    "\n",
    "The data used in this project is real-life data provided by a partner company of Udacity. As this data is confidential, I cannot upload the data itself, and I have to anonymize it before uploading this project: All company, file, and column names have been removed. Without this context, the content of the data is meaningless - and unfortunately the results are not interpretable in any meaningful way either.\n",
    "\n",
    "I also edited Udacity's (quite verbose) descriptions a bit for the sake of brevity."
   ]
  },
  {
   "cell_type": "code",
   "execution_count": 74,
   "metadata": {},
   "outputs": [],
   "source": [
    "# import libraries here\n",
    "import numpy as np\n",
    "import pandas as pd\n",
    "import matplotlib.pyplot as plt\n",
    "import seaborn as sns\n",
    "\n",
    "# magic word for producing visualizations in notebook\n",
    "%matplotlib inline"
   ]
  },
  {
   "cell_type": "markdown",
   "metadata": {},
   "source": [
    "## Step 0: Load the Data\n",
    "\n",
    "There are four files associated with this project (not including this one):\n",
    "\n",
    "- Demographics_Subset.csv: Demographics data for the general population of country X; 891211 persons (rows) x 85 features (columns).\n",
    "- Customer_Subset.csv: Demographics data for customers of company X; 191652 persons (rows) x 85 features (columns).\n",
    "- Data_Dictionary.md: Detailed information file about the features in the provided datasets.\n",
    "- Feature_Summary.csv: Summary of feature attributes for demographics data; 85 features (rows) x 4 columns\n",
    "\n",
    "Each row of the demographics files represents a single person, but also includes information outside of individuals, including information about their household, building, and neighborhood. You will use this information to cluster the general population into groups with similar demographic properties. Then, you will see how the people in the customers dataset fit into those created clusters. The hope here is that certain clusters are over-represented in the customers data, as compared to the general population; those over-represented clusters will be assumed to be part of the core userbase. This information can then be used for further applications, such as targeting for a marketing campaign.\n",
    "\n",
    "To start off with, load in the demographics data for the general population into a pandas DataFrame, and do the same for the feature attributes summary."
   ]
  },
  {
   "cell_type": "code",
   "execution_count": 75,
   "metadata": {},
   "outputs": [],
   "source": [
    "# Load in the general demographics data.\n",
    "demo_data = pd.read_csv(\"Demographics_Subset.csv\", sep=\";\")\n",
    "demo_data.columns = list(range(1, 86))\n",
    "\n",
    "# Load in the feature summary file.\n",
    "feat_info = pd.read_csv(\"Feature_Summary.csv\", sep = \";\")\n",
    "feat_info = feat_info.drop(columns=\"attribute\")\n",
    "feat_info[\"attribute\"] = list(range(1, 86))"
   ]
  },
  {
   "cell_type": "code",
   "execution_count": 76,
   "metadata": {},
   "outputs": [
    {
     "name": "stdout",
     "output_type": "stream",
     "text": [
      "Number of rows and columns: (891221, 85)\n"
     ]
    },
    {
     "data": {
      "text/html": [
       "<div>\n",
       "<style scoped>\n",
       "    .dataframe tbody tr th:only-of-type {\n",
       "        vertical-align: middle;\n",
       "    }\n",
       "\n",
       "    .dataframe tbody tr th {\n",
       "        vertical-align: top;\n",
       "    }\n",
       "\n",
       "    .dataframe thead th {\n",
       "        text-align: right;\n",
       "    }\n",
       "</style>\n",
       "<table border=\"1\" class=\"dataframe\">\n",
       "  <thead>\n",
       "    <tr style=\"text-align: right;\">\n",
       "      <th></th>\n",
       "      <th>1</th>\n",
       "      <th>2</th>\n",
       "      <th>3</th>\n",
       "      <th>4</th>\n",
       "      <th>5</th>\n",
       "      <th>6</th>\n",
       "      <th>7</th>\n",
       "      <th>8</th>\n",
       "      <th>9</th>\n",
       "      <th>10</th>\n",
       "      <th>...</th>\n",
       "      <th>76</th>\n",
       "      <th>77</th>\n",
       "      <th>78</th>\n",
       "      <th>79</th>\n",
       "      <th>80</th>\n",
       "      <th>81</th>\n",
       "      <th>82</th>\n",
       "      <th>83</th>\n",
       "      <th>84</th>\n",
       "      <th>85</th>\n",
       "    </tr>\n",
       "  </thead>\n",
       "  <tbody>\n",
       "    <tr>\n",
       "      <th>0</th>\n",
       "      <td>-1</td>\n",
       "      <td>2</td>\n",
       "      <td>1</td>\n",
       "      <td>2.0</td>\n",
       "      <td>3</td>\n",
       "      <td>4</td>\n",
       "      <td>3</td>\n",
       "      <td>5</td>\n",
       "      <td>5</td>\n",
       "      <td>3</td>\n",
       "      <td>...</td>\n",
       "      <td>NaN</td>\n",
       "      <td>NaN</td>\n",
       "      <td>NaN</td>\n",
       "      <td>NaN</td>\n",
       "      <td>NaN</td>\n",
       "      <td>NaN</td>\n",
       "      <td>NaN</td>\n",
       "      <td>NaN</td>\n",
       "      <td>NaN</td>\n",
       "      <td>NaN</td>\n",
       "    </tr>\n",
       "    <tr>\n",
       "      <th>1</th>\n",
       "      <td>-1</td>\n",
       "      <td>1</td>\n",
       "      <td>2</td>\n",
       "      <td>5.0</td>\n",
       "      <td>1</td>\n",
       "      <td>5</td>\n",
       "      <td>2</td>\n",
       "      <td>5</td>\n",
       "      <td>4</td>\n",
       "      <td>5</td>\n",
       "      <td>...</td>\n",
       "      <td>2.0</td>\n",
       "      <td>3.0</td>\n",
       "      <td>2.0</td>\n",
       "      <td>1.0</td>\n",
       "      <td>1.0</td>\n",
       "      <td>5.0</td>\n",
       "      <td>4.0</td>\n",
       "      <td>3.0</td>\n",
       "      <td>5.0</td>\n",
       "      <td>4.0</td>\n",
       "    </tr>\n",
       "    <tr>\n",
       "      <th>2</th>\n",
       "      <td>-1</td>\n",
       "      <td>3</td>\n",
       "      <td>2</td>\n",
       "      <td>3.0</td>\n",
       "      <td>1</td>\n",
       "      <td>4</td>\n",
       "      <td>1</td>\n",
       "      <td>2</td>\n",
       "      <td>3</td>\n",
       "      <td>5</td>\n",
       "      <td>...</td>\n",
       "      <td>3.0</td>\n",
       "      <td>3.0</td>\n",
       "      <td>1.0</td>\n",
       "      <td>0.0</td>\n",
       "      <td>1.0</td>\n",
       "      <td>4.0</td>\n",
       "      <td>4.0</td>\n",
       "      <td>3.0</td>\n",
       "      <td>5.0</td>\n",
       "      <td>2.0</td>\n",
       "    </tr>\n",
       "    <tr>\n",
       "      <th>3</th>\n",
       "      <td>2</td>\n",
       "      <td>4</td>\n",
       "      <td>2</td>\n",
       "      <td>2.0</td>\n",
       "      <td>4</td>\n",
       "      <td>2</td>\n",
       "      <td>5</td>\n",
       "      <td>2</td>\n",
       "      <td>1</td>\n",
       "      <td>2</td>\n",
       "      <td>...</td>\n",
       "      <td>2.0</td>\n",
       "      <td>2.0</td>\n",
       "      <td>2.0</td>\n",
       "      <td>0.0</td>\n",
       "      <td>1.0</td>\n",
       "      <td>3.0</td>\n",
       "      <td>4.0</td>\n",
       "      <td>2.0</td>\n",
       "      <td>3.0</td>\n",
       "      <td>3.0</td>\n",
       "    </tr>\n",
       "    <tr>\n",
       "      <th>4</th>\n",
       "      <td>-1</td>\n",
       "      <td>3</td>\n",
       "      <td>1</td>\n",
       "      <td>5.0</td>\n",
       "      <td>4</td>\n",
       "      <td>3</td>\n",
       "      <td>4</td>\n",
       "      <td>1</td>\n",
       "      <td>3</td>\n",
       "      <td>2</td>\n",
       "      <td>...</td>\n",
       "      <td>2.0</td>\n",
       "      <td>4.0</td>\n",
       "      <td>2.0</td>\n",
       "      <td>1.0</td>\n",
       "      <td>2.0</td>\n",
       "      <td>3.0</td>\n",
       "      <td>3.0</td>\n",
       "      <td>4.0</td>\n",
       "      <td>6.0</td>\n",
       "      <td>5.0</td>\n",
       "    </tr>\n",
       "  </tbody>\n",
       "</table>\n",
       "<p>5 rows × 85 columns</p>\n",
       "</div>"
      ],
      "text/plain": [
       "   1   2   3    4   5   6   7   8   9   10 ...    76   77   78   79   80   81  \\\n",
       "0  -1   2   1  2.0   3   4   3   5   5   3 ...   NaN  NaN  NaN  NaN  NaN  NaN   \n",
       "1  -1   1   2  5.0   1   5   2   5   4   5 ...   2.0  3.0  2.0  1.0  1.0  5.0   \n",
       "2  -1   3   2  3.0   1   4   1   2   3   5 ...   3.0  3.0  1.0  0.0  1.0  4.0   \n",
       "3   2   4   2  2.0   4   2   5   2   1   2 ...   2.0  2.0  2.0  0.0  1.0  3.0   \n",
       "4  -1   3   1  5.0   4   3   4   1   3   2 ...   2.0  4.0  2.0  1.0  2.0  3.0   \n",
       "\n",
       "    82   83   84   85  \n",
       "0  NaN  NaN  NaN  NaN  \n",
       "1  4.0  3.0  5.0  4.0  \n",
       "2  4.0  3.0  5.0  2.0  \n",
       "3  4.0  2.0  3.0  3.0  \n",
       "4  3.0  4.0  6.0  5.0  \n",
       "\n",
       "[5 rows x 85 columns]"
      ]
     },
     "metadata": {},
     "output_type": "display_data"
    }
   ],
   "source": [
    "# Check the structure of the data\n",
    "print(\"Number of rows and columns:\", demo_data.shape)\n",
    "display(demo_data.head())"
   ]
  },
  {
   "cell_type": "markdown",
   "metadata": {},
   "source": [
    "## Step 1: Preprocessing\n",
    "\n",
    "### Step 1.1: Assess Missing Data\n",
    "\n",
    "The feature summary file contains a summary of properties for each demographics data column. You will use this file to help you make cleaning decisions during this stage of the project. First of all, you should assess the demographics data in terms of missing data.\n",
    "\n",
    "#### Step 1.1.1: Convert Missing Value Codes to NaNs\n",
    "The fourth column of the feature attributes summary (loaded in above as `feat_info`) documents the codes from the data dictionary that indicate missing or unknown data. Convert data that matches a 'missing' or 'unknown' value code into a numpy NaN value."
   ]
  },
  {
   "cell_type": "code",
   "execution_count": 77,
   "metadata": {},
   "outputs": [
    {
     "name": "stdout",
     "output_type": "stream",
     "text": [
      "NA types: ['[-1,0]', '[-1,0,9]', '[0]', '[-1]', '[]', '[-1,9]', '[-1,X]', '[XX]', '[-1,XX]']\n"
     ]
    }
   ],
   "source": [
    "# Identify missing or unknown data values and convert them to NaNs.\n",
    "\n",
    "# Create list of missing value types\n",
    "na_types = list(feat_info[\"missing_or_unknown\"].unique())\n",
    "print(\"NA types:\", na_types)\n",
    "\n",
    "# Convert missing value types to integers where possible\n",
    "na_types_clean = [[-1,0], [-1,0,9], [0], [-1], [], [-1,9], [-1,\"X\"], [\"XX\"], [-1,\"XX\"]]\n",
    "\n",
    "# Get columns for each NA type\n",
    "na_columns = []\n",
    "for i in na_types:\n",
    "    storage = list(feat_info[\"attribute\"].loc[feat_info[\"missing_or_unknown\"] == i])\n",
    "    na_columns.append(storage)\n",
    "    \n",
    "# Remove missing value type [] from the lists above, otherwise the loop below breaks\n",
    "na_types.pop(4)\n",
    "na_types_clean.pop(4)\n",
    "na_columns.pop(4)\n",
    "\n",
    "# Loop over column lists for each missing value type and replace all missing values with NaN\n",
    "for i in range(0, len(na_types)):\n",
    "        demo_data[na_columns[i]] = demo_data[na_columns[i]].replace(na_types_clean[i], np.nan)"
   ]
  },
  {
   "cell_type": "markdown",
   "metadata": {},
   "source": [
    "#### Step 1.1.2: Assess Missing Data in Each Column\n",
    "\n",
    "How much missing data is present in each column? There are a few columns that are outliers in terms of the proportion of values that are missing. You will want to use matplotlib's [`hist()`](https://matplotlib.org/api/_as_gen/matplotlib.pyplot.hist.html) function to visualize the distribution of missing value counts to find these columns. While some of these columns might have justifications for keeping or re-encoding the data, for this project you should just remove them from the dataframe.\n",
    "\n",
    "For the remaining features, are there any patterns in which columns have, or share, missing data?"
   ]
  },
  {
   "cell_type": "code",
   "execution_count": 78,
   "metadata": {
    "scrolled": true
   },
   "outputs": [
    {
     "data": {
      "image/png": "[encoded data removed]",
      "text/plain": [
       "<Figure size 1152x216 with 1 Axes>"
      ]
     },
     "metadata": {
      "needs_background": "light"
     },
     "output_type": "display_data"
    }
   ],
   "source": [
    "# Perform an assessment of how much missing data there is in each column of the dataset.\n",
    "\n",
    "na_share = demo_data.isnull().sum()/len(demo_data)\n",
    "plt.figure(figsize=(16, 3))\n",
    "base_color = sns.color_palette()[0]\n",
    "sns.barplot(na_share.index.values, na_share, color = base_color)\n",
    "plt.xticks(rotation=90)\n",
    "plt.title(\"Missing values by column\")\n",
    "plt.ylabel(\"Share of missing values\");"
   ]
  },
  {
   "cell_type": "code",
   "execution_count": 79,
   "metadata": {
    "scrolled": true
   },
   "outputs": [
    {
     "name": "stdout",
     "output_type": "stream",
     "text": [
      "Variables with more than 20% missing values: [1, 12, 41, 44, 48, 65]\n"
     ]
    }
   ],
   "source": [
    "# Remove the outlier columns from the dataset.\n",
    "\n",
    "# 6 variables have more than 20% missing values and are dropped from the dataset  \n",
    "na_share = demo_data.isnull().sum()/len(demo_data)\n",
    "na_columns = list(na_share[na_share >= 0.2].index)\n",
    "print(\"Variables with more than 20% missing values:\", na_columns)\n",
    "\n",
    "demo_data = demo_data.drop(columns=na_columns)"
   ]
  },
  {
   "cell_type": "markdown",
   "metadata": {},
   "source": [
    "#### Discussion 1.1.2: Assess Missing Data in Each Column\n",
    "\n",
    "As shown in the plot above, about one half of all variables in the dataset includes no or almost no missing values. In another half, about 10-15% of observations are missing. This pattern suggests that these two groups of data might come from different sources.\n",
    "\n",
    "Finally, 6 variables have a high amount of missing values - between 35% and almost 100% - and were dropped from the dataset, These 6 variables are 1, 12, 41, 44, 48, 65. "
   ]
  },
  {
   "cell_type": "markdown",
   "metadata": {},
   "source": [
    "#### Step 1.1.3: Assess Missing Data in Each Row\n",
    "\n",
    "Now, you'll perform a similar assessment for the rows of the dataset. How much data is missing in each row? Divide the data into two subsets: one for data points that are above some threshold for missing values, and a second subset for points below that threshold.\n",
    "\n",
    "In order to know what to do with the outlier rows, we should see if the distribution of data values on columns that are not missing data (or are missing very little data) are similar or different between the two groups. Select at least five of these columns and compare the distribution of values.\n",
    "\n",
    "Depending on what you observe in your comparison, this will have implications on how you approach your conclusions later in the analysis. If the distributions of non-missing features look similar between the data with many missing values and the data with few or no missing values, then we could argue that simply dropping those points from the analysis won't present a major issue. On the other hand, if the data with many missing values looks very different from the data with few or no missing values, then we should make a note on those data as special. **Either way, you should continue your analysis below using just the subset of the data with few or no missing values.**"
   ]
  },
  {
   "cell_type": "code",
   "execution_count": 80,
   "metadata": {
    "scrolled": true
   },
   "outputs": [
    {
     "name": "stdout",
     "output_type": "stream",
     "text": [
      "Average number of missing values per row: 5.649893797385833\n"
     ]
    },
    {
     "data": {
      "image/png": "[encoded data removed]",
      "text/plain": [
       "<Figure size 432x288 with 1 Axes>"
      ]
     },
     "metadata": {
      "needs_background": "light"
     },
     "output_type": "display_data"
    }
   ],
   "source": [
    "# How much data is missing in each row of the dataset?\n",
    "\n",
    "na_count = demo_data.isnull().sum(axis=1)\n",
    "\n",
    "# On average, 5.6 observations are missing in each row:\n",
    "print(\"Average number of missing values per row:\", na_count.sum()/len(na_count))\n",
    "\n",
    "plt.hist(data=demo_data, x=na_count, bins=25)\n",
    "plt.title(\"Number of missing values by row\")\n",
    "plt.xlabel(\"Missing values per row\")\n",
    "plt.ylabel(\"Number of rows\");"
   ]
  },
  {
   "cell_type": "code",
   "execution_count": 81,
   "metadata": {
    "scrolled": true
   },
   "outputs": [
    {
     "name": "stdout",
     "output_type": "stream",
     "text": [
      "Number of rows with <= 10 NA's: 780153\n",
      "Number of rows with > 10 NA's: 111068\n",
      "Number of rows with 0 NA's: 623209\n",
      "Number of rows with > 30 NA's: 93154\n"
     ]
    }
   ],
   "source": [
    "# Write code to divide the data into two subsets based on \n",
    "# the number of missing values in each row.\n",
    "\n",
    "# The sample is divided between in one group with more than 10 \n",
    "# and one group with at most 10 missing values per row\n",
    "demo_data[\"NA_number\"] = demo_data.isnull().sum(axis = 1)\n",
    "demo_data[\"NA_category\"] = np.where(demo_data[\"NA_number\"] > 10, \"many\", \"few\")\n",
    "\n",
    "print(\"Number of rows with <= 10 NA's:\", \n",
    "      len(demo_data.loc[demo_data[\"NA_category\"] == \"few\"]))\n",
    "print(\"Number of rows with > 10 NA's:\", \n",
    "      len(demo_data.loc[demo_data[\"NA_category\"] == \"many\"]))\n",
    "\n",
    "# There is also a substantial amount of rows with no \n",
    "# and a high number of missing values, respectively \n",
    "print(\"Number of rows with 0 NA's:\", \n",
    "      len(demo_data.loc[demo_data[\"NA_number\"] == 0]))\n",
    "print(\"Number of rows with > 30 NA's:\", \n",
    "      len(demo_data.loc[demo_data[\"NA_number\"] > 30]))"
   ]
  },
  {
   "cell_type": "code",
   "execution_count": 54,
   "metadata": {
    "scrolled": true
   },
   "outputs": [],
   "source": [
    "# Compare the distribution of values for at least five columns where there are\n",
    "# no or few missing values, between the two subsets.\n",
    "\n",
    "# Removed because of confidentiality"
   ]
  },
  {
   "cell_type": "markdown",
   "metadata": {},
   "source": [
    "#### Discussion 1.1.3: Assess Missing Data in Each Row\n",
    "\n",
    "After removing the outlier columns in terms of missing values, about 2/3 of all observations in the data set - more than 600,000 of almost 900,000 in total - have no missing values, as the bar chart and printed code above show. Roughly 200,000 observations have between 1 and 10 missing values. On the other end of the spectrum, some 100,000 observations have a high number of missing values, 30 or more. Only few observations fall in between.\n",
    "\n",
    "The sample is divided between rows with at most 10 and rows with more than 10 missing values. The latter group is later dropped from the data set.\n",
    "\n",
    "The distributions of five randomly selected non-binary columns are usually similar (enough) between the two subsets with few and many missing values, respectively. That is, for the purpose of this exercise, the distributions are similar enough so as not to necessitate special treatment."
   ]
  },
  {
   "cell_type": "markdown",
   "metadata": {},
   "source": [
    "### Step 1.2: Select and Re-Encode Features\n",
    "\n",
    "Since the unsupervised learning techniques to be used will only work on data that is encoded numerically, you need to make a few encoding changes. In addition, while almost all of the values in the dataset are encoded using numbers, not all of them represent numeric values. Check the third column of the feature summary (`feat_info`) for a summary of types of measurement.\n",
    "- For numeric and interval data, these features can be kept without changes.\n",
    "- Most of the variables in the dataset are ordinal in nature. While ordinal values may technically be non-linear in spacing, make the simplifying assumption that the ordinal variables can be treated as being interval in nature (that is, kept without any changes).\n",
    "- Special handling may be necessary for the remaining two variable types: categorical, and 'mixed'."
   ]
  },
  {
   "cell_type": "code",
   "execution_count": 84,
   "metadata": {},
   "outputs": [
    {
     "data": {
      "text/plain": [
       "ordinal        49\n",
       "categorical    21\n",
       "numeric         7\n",
       "mixed           7\n",
       "interval        1\n",
       "Name: type, dtype: int64"
      ]
     },
     "execution_count": 84,
     "metadata": {},
     "output_type": "execute_result"
    }
   ],
   "source": [
    "# How many features are there of each data type? \n",
    "\n",
    "feat_info[\"type\"].value_counts()\n",
    "# The variable of type \"interval\" is dropped anyway during \n",
    "# the subsequent operations and can therefore be ignored"
   ]
  },
  {
   "cell_type": "markdown",
   "metadata": {},
   "source": [
    "#### Step 1.2.1: Re-Encode Categorical Features\n",
    "\n",
    "For categorical data, you would ordinarily need to encode the levels as dummy variables. Depending on the number of categories, perform one of the following:\n",
    "- For binary (two-level) categoricals that take numeric values, you can keep them without needing to do anything.\n",
    "- There is one binary variable that takes on non-numeric values. For this one, you need to re-encode the values as numbers or create a dummy variable.\n",
    "- For multi-level categoricals (three or more values), you can choose to encode the values using multiple dummy variables (e.g. via [OneHotEncoder](http://scikit-learn.org/stable/modules/generated/sklearn.preprocessing.OneHotEncoder.html)), or (to keep things straightforward) just drop them from the analysis."
   ]
  },
  {
   "cell_type": "code",
   "execution_count": 85,
   "metadata": {},
   "outputs": [
    {
     "name": "stdout",
     "output_type": "stream",
     "text": [
      "Factor levels:\n",
      "3 :  [1 2]\n",
      "4 :  [ 2.  5.  3.  4.  1.  6. nan]\n",
      "11 :  [4 1 6 5 2 3]\n",
      "13 :  [10.  1.  5. 12.  9.  3.  8. 11.  4.  2.  7.  6. nan]\n",
      "14 :  [0 1]\n",
      "18 :  [ 2.  5.  1. nan 10.  7. 11.  3.  8.  4.  6.  9.]\n",
      "19 :  [ 2.  3.  1. nan  5.  4.]\n",
      "20 :  [ 1.  2.  3.  9.  4. 10.  5.  8.  6.  7. nan]\n",
      "21 :  [ 1.  2.  4.  5.  3. nan]\n",
      "22 :  [nan  1.  3.  2.]\n",
      "39 :  [nan  3.  2.  1.  0.]\n",
      "40 :  [nan  1.  0.]\n",
      "42 :  [nan  2.  1.]\n",
      "43 :  [3 5 4 1 6 2]\n",
      "53 :  [nan  8.  1.  3.  2.  6.  4.  5.]\n",
      "56 :  [nan 'W' 'O']\n",
      "58 :  [nan '8' '4' '2' '6' '1' '9' '5' '7' '3']\n",
      "59 :  [nan '8A' '4C' '2A' '6B' '8C' '4A' '2D' '1A' '1E' '9D' '5C' '8B' '7A' '5D'\n",
      " '9E' '9B' '1B' '3D' '4E' '4B' '3C' '5A' '7B' '9A' '6D' '6E' '2C' '7C'\n",
      " '9C' '7D' '5E' '1D' '8D' '6C' '6A' '5B' '4D' '3A' '2B' '7E' '3B' '6F'\n",
      " '5F' '1C']\n"
     ]
    }
   ],
   "source": [
    "# Assess categorical variables: which are binary, which are multi-level, and which one needs to be re-encoded?\n",
    "\n",
    "# Remove already dropped features from feat_info\n",
    "feat_info = feat_info[-feat_info[\"attribute\"].isin(na_columns)]\n",
    "\n",
    "# Create a list of categorical variables\n",
    "categorical = feat_info[\"attribute\"].loc[feat_info[\"type\"] == \"categorical\"].tolist()\n",
    "\n",
    "# Show factor levels of categorical features\n",
    "print(\"Factor levels:\")\n",
    "for i in range(0, len(categorical)):\n",
    "    print(categorical[i], \": \", demo_data[categorical[i]].unique())"
   ]
  },
  {
   "cell_type": "code",
   "execution_count": 86,
   "metadata": {},
   "outputs": [],
   "source": [
    "# Create list of binary features\n",
    "binary = [3, 14, 40, 42, 56]\n",
    "\n",
    "# Convert 56 to numeric\n",
    "demo_data[56] = demo_data[56].replace({\"W\": 0, \"O\": 1})"
   ]
  },
  {
   "cell_type": "code",
   "execution_count": 87,
   "metadata": {},
   "outputs": [],
   "source": [
    "# Create list of non-binary categorical features\n",
    "non_binary = [i for i in categorical if i not in binary]\n",
    "\n",
    "# Drop 59\"\n",
    "demo_data = demo_data.drop(columns=59)\n",
    "non_binary.remove(59)\n",
    "categorical.remove(59)\n",
    "\n",
    "# One hot encode non-binary categorical features\n",
    "features_onehot = demo_data[non_binary].applymap(str)\n",
    "features_onehot = pd.get_dummies(features_onehot)\n",
    "features_non_binary = features_onehot\n",
    "\n",
    "# Drop original non-binary categorical features\n",
    "demo_data = demo_data.drop(non_binary, axis=1)"
   ]
  },
  {
   "cell_type": "markdown",
   "metadata": {},
   "source": [
    "#### Discussion 1.2.1: Re-Encode Categorical Features\n",
    "\n",
    "##### Binary features:\n",
    "The dataset contains 5 binary features. 56 was re-encoded as numeric variable. All other binary features were already numeric and not further processed.\n",
    "\n",
    "##### Non-binary features:\n",
    "The dataset contains 11 non-binary categorical features. 59 was dropped because thise feature is very similar to 58 and has a large number of levels, which would add a lot of dummy variables after one hot encoding. All other non-binary categorical features were one hot encoded and the original variables that were dropped."
   ]
  },
  {
   "cell_type": "markdown",
   "metadata": {},
   "source": [
    "#### Step 1.2.2: Engineer Mixed-Type Features\n",
    "\n",
    "There are a handful of features that are marked as \"mixed\" in the feature summary that require special treatment in order to be included in the analysis. There are two in particular that deserve attention; the handling of the rest are up to your own choices:\n",
    "- 23 combines information on three dimensions: Description removed because of confidentiality\n",
    "- 60 combines information on two axes: Description removed because of confidentiality\n",
    "- If you decide to keep or engineer new features around the other mixed-type features, make sure you note your steps in the Discussion section."
   ]
  },
  {
   "cell_type": "code",
   "execution_count": 88,
   "metadata": {},
   "outputs": [],
   "source": [
    "# Investigate 23 and engineer two new variables.\n",
    "\n",
    "dec = {1: 40, 2: 40, 3: 50, 4: 50, 5: 60, 6: 60, 7: 60, 8: 70,\n",
    "       9: 70, 10: 80, 11: 80, 12: 80, 13: 80, 14: 90, 15 :90}\n",
    "demo_data[\"DEC\"] = demo_data[23].replace(dec)\n",
    "\n",
    "mov = {1: \"M\", 2: \"A\", 3: \"M\",4: \"A\", 5: \"M\", \n",
    "       6: \"A\", 7: \"A\", 8: \"M\", 9: \"A\",  10: \"M\",  \n",
    "       11: \"A\",  12: \"M\", 13: \"A\",  14: \"M\", 15: \"A\"}\n",
    "demo_data[\"MOV\"] = demo_data[23].replace(mov)\n",
    "\n",
    "# Convert to numeric\n",
    "demo_data[\"MOV\"] = demo_data[\"MOV\"].replace({\"M\": 0, \"A\": 1})\n",
    "\n",
    "# Drop original feature\n",
    "demo_data = demo_data.drop(columns=23)"
   ]
  },
  {
   "cell_type": "code",
   "execution_count": 89,
   "metadata": {},
   "outputs": [],
   "source": [
    "# Investigate 60 and engineer two new variables.\n",
    "\n",
    "demo_data[60] = pd.to_numeric(demo_data[60])\n",
    "w = {11: 5, 12: 5, 13: 5, 14: 5, 15: 5, \n",
    "     21: 4, 22: 4, 23: 4, 24: 4, 25: 4,\n",
    "     31: 3, 32: 3, 33: 3, 34: 3, 35: 3,\n",
    "     41: 2, 42: 2, 43: 2, 44: 2, 45: 2,\n",
    "     51: 1, 52: 1, 53: 1, 54: 1, 55: 1}\n",
    "demo_data[\"W\"] = demo_data[60].replace(w)\n",
    "\n",
    "ls = {11: 1, 12: 2, 13: 3, 14: 4, 15: 5, \n",
    "      21: 1, 22: 2, 23: 3, 24: 4, 25: 5,\n",
    "      31: 1, 32: 2, 33: 3, 34: 4, 35: 5,\n",
    "      41: 1, 42: 2, 43: 3, 44: 4, 45: 5,\n",
    "      51: 1, 52: 2, 53: 3, 54: 4, 55: 5}\n",
    "demo_data[\"LS\"] = demo_data[60].replace(ls)\n",
    "\n",
    "# Drop original feature\n",
    "demo_data = demo_data.drop(columns=60)"
   ]
  },
  {
   "cell_type": "code",
   "execution_count": 90,
   "metadata": {},
   "outputs": [],
   "source": [
    "# One hot encode mixed categorical features\n",
    "mixed = [57, 80]\n",
    "features_onehot = demo_data[mixed].applymap(str)\n",
    "features_onehot = pd.get_dummies(features_onehot)\n",
    "features_mixed = features_onehot\n",
    "\n",
    "# drop original columns\n",
    "demo_data = demo_data.drop(columns=mixed)"
   ]
  },
  {
   "cell_type": "code",
   "execution_count": 91,
   "metadata": {},
   "outputs": [],
   "source": [
    "# Drop 16 &  17\n",
    "# These two features are very similar to 60\n",
    "demo_data = demo_data.drop(columns=[16, 17])"
   ]
  },
  {
   "cell_type": "markdown",
   "metadata": {},
   "source": [
    "#### Discussion 1.2.2: Engineer Mixed-Type Features\n",
    "\n",
    "Removed because of confidentiality"
   ]
  },
  {
   "cell_type": "markdown",
   "metadata": {},
   "source": [
    "#### Step 1.2.3: Complete Feature Selection\n",
    "\n",
    "In order to finish this step up, you need to make sure that your data frame now only has the columns that you want to keep. To summarize, the dataframe should consist of the following:\n",
    "- All numeric, interval, and ordinal type columns from the original dataset.\n",
    "- Binary categorical features (all numerically-encoded).\n",
    "- Engineered features from other multi-level categorical features and mixed features."
   ]
  },
  {
   "cell_type": "code",
   "execution_count": 92,
   "metadata": {},
   "outputs": [],
   "source": [
    "# If there are other re-engineering tasks you need to perform, make sure you\n",
    "# take care of them here. (Dealing with missing data will come in step 2.1.)\n",
    "\n",
    "# No other re-engineering tasks were performed"
   ]
  },
  {
   "cell_type": "code",
   "execution_count": 94,
   "metadata": {},
   "outputs": [
    {
     "name": "stdout",
     "output_type": "stream",
     "text": [
      "Shape of the dataset: (780153, 173)\n",
      "Remaining columns in the dataset: [2, 3, 5, 6, 7, 8, 9, 10, 14, 15, 24, 25, 26, 27, 28, 29, 30, 31, 32, 33, 34, 35, 36, 37, 38, 40, 42, 45, 46, 47, 49, 50, 51, 52, 54, 55, 56, 61, 62, 63, 64, 66, 67, 68, 69, 70, 71, 72, 73, 74, 75, 76, 77, 78, 79, 81, 82, 83, 84, 85, 'DEC', 'MOV', 'W', 'LS', '4_1.0', '4_2.0', '4_3.0', '4_4.0', '4_5.0', '4_6.0', '4_nan', '11_1', '11_2', '11_3', '11_4', '11_5', '11_6', '13_1.0', '13_10.0', '13_11.0', '13_12.0', '13_2.0', '13_3.0', '13_4.0', '13_5.0', '13_6.0', '13_7.0', '13_8.0', '13_9.0', '13_nan', '18_1.0', '18_10.0', '18_11.0', '18_2.0', '18_3.0', '18_4.0', '18_5.0', '18_6.0', '18_7.0', '18_8.0', '18_9.0', '18_nan', '19_1.0', '19_2.0', '19_3.0', '19_4.0', '19_5.0', '19_nan', '20_1.0', '20_10.0', '20_2.0', '20_3.0', '20_4.0', '20_5.0', '20_6.0', '20_7.0', '20_8.0', '20_9.0', '20_nan', '21_1.0', '21_2.0', '21_3.0', '21_4.0', '21_5.0', '21_nan', '22_1.0', '22_2.0', '22_3.0', '22_nan', '39_0.0', '39_1.0', '39_2.0', '39_3.0', '39_nan', '43_1', '43_2', '43_3', '43_4', '43_5', '43_6', '53_1.0', '53_2.0', '53_3.0', '53_4.0', '53_5.0', '53_6.0', '53_8.0', '53_nan', '58_1', '58_2', '58_3', '58_4', '58_5', '58_6', '58_7', '58_8', '58_9', '58_nan', '57_0.0', '57_1.0', '57_2.0', '57_3.0', '57_4.0', '57_5.0', '57_7.0', '57_8.0', '57_nan', '80_1.0', '80_2.0', '80_3.0', '80_4.0', '80_5.0', '80_nan']\n"
     ]
    }
   ],
   "source": [
    "# Do whatever you need to in order to ensure that the dataframe only contains\n",
    "# the columns that should be passed to the algorithm functions.\n",
    "\n",
    "# Concatenate demographics dataframe with one hot encoded features\n",
    "demo_data = pd.concat([demo_data, features_non_binary, features_mixed], axis=1)\n",
    "\n",
    "# remove rows with many NaN (>10)\n",
    "demo_data = demo_data.drop(demo_data[demo_data[\"NA_category\"] == \"many\"].index)\n",
    "\n",
    "# Drop useless columns: NA_category and NA_number\n",
    "demo_data = demo_data.drop([\"NA_number\", \"NA_category\"], axis = 1)\n",
    "\n",
    "print(\"Shape of the dataset:\", demo_data.shape)\n",
    "print(\"Remaining columns in the dataset:\", demo_data.columns.values.tolist())"
   ]
  },
  {
   "cell_type": "markdown",
   "metadata": {},
   "source": [
    "### Step 1.3: Create a Cleaning Function\n",
    "\n",
    "Even though you've finished cleaning up the general population demographics data, it's important to look ahead to the future and realize that you'll need to perform the same cleaning steps on the customer demographics data. In this substep, complete the function below to execute the main feature selection, encoding, and re-engineering steps you performed above. Then, when it comes to looking at the customer data in Step 3, you can just run this function on that DataFrame to get the trimmed dataset in a single step."
   ]
  },
  {
   "cell_type": "code",
   "execution_count": 98,
   "metadata": {},
   "outputs": [],
   "source": [
    "def clean_data(source):\n",
    "\n",
    "    # load data\n",
    "    df = pd.read_csv(source, sep=\";\")\n",
    "    df.columns = list(range(1, 86))\n",
    "\n",
    "    feat_info = pd.read_csv(\"Feature_Summary.csv\", sep=\";\")\n",
    "    feat_info = feat_info.drop(columns=\"attribute\")\n",
    "    feat_info[\"attribute\"] = list(range(1, 86))\n",
    "    \n",
    "    # convert missing values to NaN\n",
    "    na_types = list(feat_info[\"missing_or_unknown\"].unique())\n",
    "    na_types_clean = [[-1,0], [-1,0,9], [0], [-1], [], [-1,9], [-1,\"X\"], [\"XX\"], [-1,\"XX\"]]\n",
    "    na_columns = []\n",
    "    for i in na_types:\n",
    "        storage = list(feat_info[\"attribute\"].loc[feat_info[\"missing_or_unknown\"] == i])\n",
    "        na_columns.append(storage)\n",
    "    na_types.pop(4)\n",
    "    na_types_clean.pop(4)\n",
    "    na_columns.pop(4)\n",
    "    for i in range(0, len(na_types)):\n",
    "            df[na_columns[i]] = df[na_columns[i]].replace(na_types_clean[i], np.nan)\n",
    "\n",
    "    # drop columns with more than 20% NaN in demographics dataset\n",
    "    na_columns = [1, 12, 41, 44, 48, 65]\n",
    "    df = df.drop(columns = na_columns)\n",
    "    # as they need to be same columns in both datasets, and the customer data\n",
    "    # has many columns with lots of NaN, these columns are hardcoded here\n",
    "    \n",
    "    # deal with binary and non-binary categorical features\n",
    "    feat_info = feat_info[-feat_info[\"attribute\"].isin(na_columns)]\n",
    "    categorical = feat_info[\"attribute\"].loc[feat_info[\"type\"] == \"categorical\"].tolist()\n",
    "    binary = [3, 14, 40, 42, 56]\n",
    "    df[56] = df[56].replace({\"W\": 0, \"O\": 1})\n",
    "    non_binary = [i for i in categorical if i not in binary]\n",
    "    df = df.drop(columns=59)\n",
    "    non_binary.remove(59)   \n",
    "    categorical.remove(59)\n",
    "\n",
    "    # one hot encode non-binary categorical features\n",
    "    features_onehot = df[non_binary].applymap(str)\n",
    "    features_onehot = pd.get_dummies(features_onehot)\n",
    "    features_non_binary = features_onehot\n",
    "    df = df.drop(non_binary, axis=1)\n",
    "\n",
    "    # mixed categorical features - PRAEGENDE_JUGENDJAHRE\n",
    "    dec = {1: 40, 2: 40, 3: 50, 4: 50, 5: 60, 6: 60, 7: 60, 8: 70,\n",
    "           9: 70, 10: 80, 11: 80, 12: 80, 13: 80, 14: 90, 15 :90}\n",
    "    df[\"DEC\"] = df[23].replace(dec)\n",
    "    mov = {1: \"M\", 2: \"A\", 3: \"M\",4: \"A\", 5: \"M\", \n",
    "           6: \"A\", 7: \"A\", 8: \"M\", 9: \"A\",  10: \"M\",  \n",
    "           11: \"A\",  12: \"M\", 13: \"A\",  14: \"M\", 15: \"A\"}\n",
    "    df[\"MOV\"] = df[23].replace(mov)\n",
    "    df[\"MOV\"] = df[\"MOV\"].replace({\"M\": 0, \"A\": 1})\n",
    "    df = df.drop(columns=23)\n",
    "    \n",
    "    # mixed categorical features - 60\n",
    "    df[60] = pd.to_numeric(df[60])\n",
    "    wealth = {11: 5, 12: 5, 13: 5, 14: 5, 15: 5, \n",
    "              21: 4, 22: 4, 23: 4, 24: 4, 25: 4, \n",
    "              31: 3, 32: 3, 33: 3, 34: 3, 35: 3, \n",
    "              41: 2, 42: 2, 43: 2, 44: 2, 45: 2, \n",
    "              51: 1, 52: 1, 53: 1, 54: 1, 55: 1}\n",
    "    df[\"W\"] = df[60].replace(w)\n",
    "    ls = {11: 1, 12: 2, 13: 3, 14: 4, 15: 5, \n",
    "          21: 1, 22: 2, 23: 3, 24: 4, 25: 5,\n",
    "          31: 1, 32: 2, 33: 3, 34: 4, 35: 5,\n",
    "          41: 1, 42: 2, 43: 3, 44: 4, 45: 5,\n",
    "          51: 1, 52: 2, 53: 3, 54: 4, 55: 5}\n",
    "    df[\"LS\"] = df[60].replace(ls)\n",
    "    df = df.drop(columns=60)\n",
    "    \n",
    "    # one hot encode mixed categorical features\n",
    "    mixed = [57, 80]\n",
    "    features_onehot = df[mixed].applymap(str)\n",
    "    features_onehot = pd.get_dummies(features_onehot)\n",
    "    features_mixed = features_onehot\n",
    "    df = df.drop(columns = mixed)\n",
    "    \n",
    "    # Drop 16 &  17\n",
    "    df = df.drop(columns=[16, 17])\n",
    "    \n",
    "    # concatenate dataframe with one hot encoded features\n",
    "    df = pd.concat([df, features_non_binary, features_mixed], axis = 1)\n",
    "\n",
    "    # remove rows with many NaN (>10)\n",
    "    df[\"NA_number\"] = df.isnull().sum(axis = 1)\n",
    "    df[\"NA_category\"] = np.where(df[\"NA_number\"] > 10, \"many\", \"few\")\n",
    "    df = df.drop(df[df[\"NA_category\"] == \"many\"].index)\n",
    "\n",
    "    # drop useless columns: NA_category and NA_number\n",
    "    df = df.drop([\"NA_number\", \"NA_category\"], axis = 1)\n",
    "\n",
    "    return df"
   ]
  },
  {
   "cell_type": "markdown",
   "metadata": {},
   "source": [
    "## Step 2: Feature Transformation\n",
    "\n",
    "### Step 2.1: Apply Feature Scaling\n",
    "\n",
    "Before we apply dimensionality reduction techniques to the data, we need to perform feature scaling so that the principal component vectors are not influenced by the natural differences in scale for features. "
   ]
  },
  {
   "cell_type": "code",
   "execution_count": 100,
   "metadata": {},
   "outputs": [
    {
     "name": "stdout",
     "output_type": "stream",
     "text": [
      "Dataset shape before: (780153, 173)\n",
      "Dataset shape after: (623211, 173)\n"
     ]
    }
   ],
   "source": [
    "# If you've not yet cleaned the dataset of all NaN values, then investigate and\n",
    "# do that now.\n",
    "\n",
    "# drop rows with missing values\n",
    "print(\"Dataset shape before:\", demo_data.shape)\n",
    "demo_data = demo_data.dropna()\n",
    "print(\"Dataset shape after:\", demo_data.shape)\n",
    "# some 150,000 rows are dropped"
   ]
  },
  {
   "cell_type": "code",
   "execution_count": 103,
   "metadata": {},
   "outputs": [
    {
     "name": "stderr",
     "output_type": "stream",
     "text": [
      "C:\\Users\\chris\\Anaconda3\\lib\\site-packages\\sklearn\\preprocessing\\data.py:323: DataConversionWarning: Data with input dtype uint8, int64, float64 were all converted to float64 by MinMaxScaler.\n",
      "  return self.partial_fit(X, y)\n"
     ]
    }
   ],
   "source": [
    "# Apply feature scaling to the general population demographics data.\n",
    "\n",
    "# Scale features with to mean = 0 and std = 1\n",
    "from sklearn.preprocessing import MinMaxScaler\n",
    "scaler = MinMaxScaler() \n",
    "demo_data_scaled = scaler.fit_transform(demo_data)"
   ]
  },
  {
   "cell_type": "markdown",
   "metadata": {},
   "source": [
    "### Discussion 2.1: Apply Feature Scaling\n",
    "\n",
    "All remaining rows with missing values were drop from the dataset. As the dataset is still sufficiently large afterwards, missing values were not imputed.\n",
    "\n",
    "All features were scaled using sklearn's MinMaxScaler() function with the default options. The function by default scales all variables to a mean of 0 and a standard deviation of 1."
   ]
  },
  {
   "cell_type": "markdown",
   "metadata": {},
   "source": [
    "### Step 2.2: Perform Dimensionality Reduction\n",
    "\n",
    "On your scaled data, you are now ready to apply dimensionality reduction techniques.\n",
    "\n",
    "- Use sklearn's [PCA](http://scikit-learn.org/stable/modules/generated/sklearn.decomposition.PCA.html) class to apply principal component analysis on the data, thus finding the vectors of maximal variance in the data. To start, you should not set any parameters (so all components are computed) or set a number of components that is at least half the number of features (so there's enough features to see the general trend in variability).\n",
    "- Check out the ratio of variance explained by each principal component as well as the cumulative variance explained. Try plotting the cumulative or sequential values using matplotlib's [`plot()`](https://matplotlib.org/api/_as_gen/matplotlib.pyplot.plot.html) function. Based on what you find, select a value for the number of transformed features you'll retain for the clustering part of the project.\n",
    "- Once you've made a choice for the number of components to keep, make sure you re-fit a PCA instance to perform the decided-on transformation."
   ]
  },
  {
   "cell_type": "code",
   "execution_count": 104,
   "metadata": {},
   "outputs": [],
   "source": [
    "# Apply PCA to the data.\n",
    "\n",
    "from sklearn.decomposition import PCA\n",
    "\n",
    "# Calculate the first 100 principal components\n",
    "pca = PCA(n_components=100)\n",
    "demo_data_pca = pca.fit_transform(demo_data_scaled)\n",
    "demo_data_pca = pd.DataFrame(data=demo_data_pca)"
   ]
  },
  {
   "cell_type": "code",
   "execution_count": 105,
   "metadata": {},
   "outputs": [
    {
     "name": "stdout",
     "output_type": "stream",
     "text": [
      "Explained variance in % of the first 100 principal components:\n",
      "[12.06398527  8.20582074  5.42260655  4.51819984  3.75747156  2.51390753\n",
      "  2.3376612   2.00124227  1.97515397  1.89091517  1.78921595  1.73672359\n",
      "  1.68925743  1.59923943  1.49280009  1.40325756  1.35950463  1.30209165\n",
      "  1.18279686  1.14820166  1.12606749  1.09963467  1.01764378  0.99468358\n",
      "  0.9889528   0.95009131  0.90844497  0.89763615  0.87497231  0.85435624\n",
      "  0.83656321  0.80350328  0.79321536  0.78003043  0.75261963  0.7420717\n",
      "  0.73020605  0.71173112  0.69512866  0.69288105  0.66097932  0.65049904\n",
      "  0.64187878  0.63815468  0.62585653  0.61369612  0.59929642  0.5784341\n",
      "  0.57416385  0.56244641  0.54718847  0.54301596  0.52745177  0.51192953\n",
      "  0.50183009  0.49732102  0.46586831  0.45980839  0.45717504  0.45517775\n",
      "  0.43465356  0.42391461  0.41906051  0.40814988  0.39253302  0.37070875\n",
      "  0.3587945   0.34694848  0.33889101  0.33193667  0.32009603  0.31375872\n",
      "  0.30618076  0.29635196  0.29204367  0.2800672   0.26535087  0.25938743\n",
      "  0.25485533  0.25040322  0.24565914  0.22273926  0.21280092  0.20977496\n",
      "  0.20544415  0.20139697  0.19167496  0.18697426  0.18173006  0.1724426\n",
      "  0.16573115  0.15712619  0.15642672  0.14993664  0.14357857  0.14226638\n",
      "  0.13905442  0.13737364  0.13069279  0.12655872]\n"
     ]
    }
   ],
   "source": [
    "# Investigate the variance accounted for by each principal component.\n",
    "\n",
    "print(\"Explained variance in % of the first 100 principal components:\")\n",
    "print(pca.explained_variance_ratio_ * 100)"
   ]
  },
  {
   "cell_type": "code",
   "execution_count": 106,
   "metadata": {},
   "outputs": [
    {
     "data": {
      "image/png": "[encoded data removed]",
      "text/plain": [
       "<Figure size 1152x576 with 1 Axes>"
      ]
     },
     "metadata": {
      "needs_background": "light"
     },
     "output_type": "display_data"
    }
   ],
   "source": [
    "num_components = len(pca.explained_variance_ratio_)\n",
    "ind = np.arange(num_components)\n",
    "vals = pca.explained_variance_ratio_\n",
    "cumvals = np.cumsum(vals)\n",
    "plt.figure(figsize=(16, 8))\n",
    "ax = plt.subplot()\n",
    "ax.bar(ind, vals)\n",
    "ax.plot(ind, cumvals)\n",
    "ax.set_xlabel(\"Principal component\")\n",
    "ax.set_ylabel(\"Variance explained\")\n",
    "plt.title(\"Explained variance per principal component and cumulative\");"
   ]
  },
  {
   "cell_type": "code",
   "execution_count": 108,
   "metadata": {
    "scrolled": true
   },
   "outputs": [
    {
     "data": {
      "image/png": "[encoded data removed]",
      "text/plain": [
       "<Figure size 1152x288 with 1 Axes>"
      ]
     },
     "metadata": {
      "needs_background": "light"
     },
     "output_type": "display_data"
    }
   ],
   "source": [
    "# to get a better view of the variance explained by each component\n",
    "plt.figure(figsize = (16, 4))\n",
    "sns.barplot(ind[0:50], vals[0:50], color = base_color)\n",
    "plt.title(\"Explained variance per principal component (first 50 components)\")\n",
    "plt.xlabel(\"Principal component\")\n",
    "plt.ylabel(\"Variance explained\");"
   ]
  },
  {
   "cell_type": "code",
   "execution_count": 109,
   "metadata": {},
   "outputs": [
    {
     "name": "stdout",
     "output_type": "stream",
     "text": [
      "Variance explained by the first 40 components: 0.7664048673531987\n"
     ]
    }
   ],
   "source": [
    "# Re-apply PCA to the data while selecting for number of components to retain.\n",
    "\n",
    "print(\"Variance explained by the first 40 components:\", cumvals[39])\n",
    "\n",
    "pca = PCA(n_components=40)\n",
    "demo_data_pca = pca.fit_transform(demo_data_scaled)\n",
    "demo_data_pca = pd.DataFrame(data=demo_data_pca)"
   ]
  },
  {
   "cell_type": "markdown",
   "metadata": {},
   "source": [
    "### Discussion 2.2: Perform Dimensionality Reduction\n",
    "\n",
    "The curve of the accumulated explained variance of the principal components and the (implicit) curve in the bar charts of the explained variance per individual components are pretty smooth. The dropoff in variance explained is pretty sharp for the first 5 principal components, which together explain about 40% of total variance, but if you want to include more than 5, a natural cutoff point is not really readily apparent. Therefore 40 principal components were selected, because it is a round number und still fast to compute. These 40 account for 76.6% in the variance in the data."
   ]
  },
  {
   "cell_type": "markdown",
   "metadata": {},
   "source": [
    "### Step 2.3: Interpret Principal Components\n",
    "\n",
    "Now that we have our transformed principal components, it's a nice idea to check out the weight of each variable on the first few components to see if they can be interpreted in some fashion.\n",
    "\n",
    "- To investigate the features, you should map each weight to their corresponding feature name, then sort the features according to weight. The most interesting features for each principal component, then, will be those at the beginning and end of the sorted list.\n",
    "- You should investigate and interpret feature associations from the first three principal components in this substep. To help facilitate this, you should write a function that you can call at any time to print the sorted list of feature weights, for the *i*-th principal component."
   ]
  },
  {
   "cell_type": "code",
   "execution_count": 130,
   "metadata": {},
   "outputs": [
    {
     "data": {
      "text/plain": [
       "[(0.2795936190696385, '21_1.0'),\n",
       " (0.17891736432540326, 79),\n",
       " (0.17370920943069101, '20_1.0'),\n",
       " (0.16464360966740302, 78),\n",
       " (0.15307875666881252, 47),\n",
       " (0.14149937061560902, 68),\n",
       " (0.13657880354577728, '18_1.0'),\n",
       " (0.13657880354577728, '19_1.0'),\n",
       " (0.135983029101506, '11_1'),\n",
       " (0.13344352130269532, 10),\n",
       " (0.12573616343629637, 6),\n",
       " (0.12160132825169075, 84),\n",
       " (0.11201177827932966, 63),\n",
       " (0.11067674675436065, 64),\n",
       " (0.10588440963894731, '20_2.0'),\n",
       " (0.10554241993684527, '80_5.0'),\n",
       " (0.10530715896070307, '58_9'),\n",
       " (0.09758269469483076, '58_8'),\n",
       " (0.09543929009314832, 85),\n",
       " (0.0779402421557491, 37)]"
      ]
     },
     "execution_count": 130,
     "metadata": {},
     "output_type": "execute_result"
    }
   ],
   "source": [
    "# Map weights for the first principal component to corresponding feature names\n",
    "# and then print the linked values, sorted by weight.\n",
    "\n",
    "def pc_weights(component):\n",
    "    ls = list(zip(pca.components_[component-1], demo_data.columns))\n",
    "    ls.sort(key = lambda x: x[0], reverse=True)\n",
    "    return ls\n",
    "\n",
    "# weights and features for the first principal component\n",
    "pc1_weights = pc_weights(1)\n",
    "\n",
    "# print first 20 weights\n",
    "pc1_weights[0:20]"
   ]
  },
  {
   "cell_type": "code",
   "execution_count": 137,
   "metadata": {},
   "outputs": [
    {
     "data": {
      "text/plain": [
       "[(-0.125059896950407, '21_5.0'),\n",
       " (-0.12744642358929098, '53_1.0'),\n",
       " (-0.13927177859601192, 14),\n",
       " (-0.13927177859601192, 'MOV'),\n",
       " (-0.1613114817832534, 72),\n",
       " (-0.1660782659815835, 66),\n",
       " (-0.18006862401494303, 'W'),\n",
       " (-0.1847314435249625, 5),\n",
       " (-0.1903479212165371, 61),\n",
       " (-0.23988152690319628, '80_1.0')]"
      ]
     },
     "execution_count": 137,
     "metadata": {},
     "output_type": "execute_result"
    }
   ],
   "source": [
    "# last 10 weights\n",
    "pc1_weights[-10:]"
   ]
  },
  {
   "cell_type": "code",
   "execution_count": 134,
   "metadata": {},
   "outputs": [
    {
     "data": {
      "text/plain": [
       "[(0.29469296975345566, '43_3'),\n",
       " (0.2284184166223458, 2),\n",
       " (0.21258058649693878, 7),\n",
       " (0.16947439125721978, 24),\n",
       " (0.16402977226395232, 30),\n",
       " (0.1623678929319908, 31),\n",
       " (0.1383655421750027, '20_1.0'),\n",
       " (0.1281116846075091, 49),\n",
       " (0.11850239297561124, '4_2.0'),\n",
       " (0.10997609262519256, '18_1.0'),\n",
       " (0.10997609262519256, '19_1.0'),\n",
       " (0.10556716164991606, '11_6'),\n",
       " (0.0924778069775244, '39_3.0'),\n",
       " (0.09075247657888806, '11_5'),\n",
       " (0.08236658099828766, 5),\n",
       " (0.0822639010920567, 10),\n",
       " (0.07658359705683149, '11_2'),\n",
       " (0.07167666764955097, 79),\n",
       " (0.07027095922670372, 34),\n",
       " (0.06743044343670417, 78)]"
      ]
     },
     "execution_count": 134,
     "metadata": {},
     "output_type": "execute_result"
    }
   ],
   "source": [
    "# Map weights for the second principal component to corresponding feature names\n",
    "# and then print the linked values, sorted by weight.\n",
    "\n",
    "pc2_weights = pc_weights(2)\n",
    "\n",
    "# print first 20 weights\n",
    "pc2_weights[0:20]"
   ]
  },
  {
   "cell_type": "code",
   "execution_count": 135,
   "metadata": {},
   "outputs": [
    {
     "data": {
      "text/plain": [
       "[(0.2832802469869157, 29),\n",
       " (0.22943331456798352, 25),\n",
       " (0.22872850137720233, 26),\n",
       " (0.22386119416018052, 32),\n",
       " (0.1395130997959277, '11_5'),\n",
       " (0.13105445135012353, '39_0.0'),\n",
       " (0.12220428644882722, 5),\n",
       " (0.11995103015463135, '43_1'),\n",
       " (0.11885716292173581, 14),\n",
       " (0.11885716292173581, 'MOV'),\n",
       " (0.10050994426252695, 27),\n",
       " (0.08526953685206101, 24),\n",
       " (0.0801536133082083, 68),\n",
       " (0.07766066594796585, '39_1.0'),\n",
       " (0.07338372517641668, '20_10.0'),\n",
       " (0.07338372517641668, '21_5.0'),\n",
       " (0.07298280588922405, 28),\n",
       " (0.06733484155831643, 84),\n",
       " (0.06321029311990951, 49),\n",
       " (0.06011300591588375, '20_1.0')]"
      ]
     },
     "execution_count": 135,
     "metadata": {},
     "output_type": "execute_result"
    }
   ],
   "source": [
    "# Map weights for the third principal component to corresponding feature names\n",
    "# and then print the linked values, sorted by weight.\n",
    "\n",
    "pc3_weights = pc_weights(3)\n",
    "\n",
    "# print first 20 weights\n",
    "pc3_weights[0:20]"
   ]
  },
  {
   "cell_type": "markdown",
   "metadata": {},
   "source": [
    "### Discussion 2.3: Interpret Principal Components\n",
    "\n",
    "Removed because of confidentiality."
   ]
  },
  {
   "cell_type": "markdown",
   "metadata": {},
   "source": [
    "## Step 3: Clustering\n",
    "\n",
    "### Step 3.1: Apply Clustering to General Population\n",
    "\n",
    "You've assessed and cleaned the demographics data, then scaled and transformed them. Now, it's time to see how the data clusters in the principal components space. In this substep, you will apply k-means clustering to the dataset and use the average within-cluster distances from each point to their assigned cluster's centroid to decide on a number of clusters to keep.\n",
    "\n",
    "You should test for cluster counts through at least 10 clusters to get the full picture, but you shouldn't need to test for a number of clusters above about 30.\n",
    "\n",
    "Once you've selected a final number of clusters to use, re-fit a KMeans instance to perform the clustering operation. Make sure that you also obtain the cluster assignments for the general demographics data, since you'll be using them in the final Step 3.3."
   ]
  },
  {
   "cell_type": "code",
   "execution_count": 175,
   "metadata": {
    "scrolled": true
   },
   "outputs": [],
   "source": [
    "# Over a number of different cluster counts...\n",
    "    # run k-means clustering on the data and...\n",
    "    # compute the average within-cluster distances.\n",
    "\n",
    "from sklearn.cluster import KMeans\n",
    "from scipy.spatial import distance\n",
    "    \n",
    "awcd_list = []\n",
    "score_list = []\n",
    "\n",
    "def get_kmeans_metrics(data):\n",
    "    \n",
    "    # Over a number of different cluster counts...\n",
    "    for k in k_list:\n",
    "        \n",
    "        # run k-means clustering on the data and...\n",
    "        kmeans = KMeans(n_clusters=k, n_jobs=-1) # use all CPU cores\n",
    "        model = kmeans.fit(data)\n",
    "        labels = kmeans.predict(data)    \n",
    "        centers = model.cluster_centers_\n",
    "\n",
    "        # compute the average within-cluster distances.\n",
    "        cluster_list = list(range(0, k))\n",
    "        distances = []\n",
    "        \n",
    "        for i in cluster_list:\n",
    "            distances_i = distance.cdist(data[labels == i], [centers[i]], \"euclidean\")\n",
    "            distances_i = distances_i.tolist()\n",
    "            distances_i = [y for x in distances_i for y in x]\n",
    "            distances = distances + distances_i\n",
    "        # As I realized later, the average within-cluster distance is equal to the square root of the score()\n",
    "        # so this part is needlessly complicated\n",
    "        \n",
    "        awcd = np.mean(distances)\n",
    "        awcd_list.append(awcd)\n",
    "        \n",
    "        # (plus the score, the sum of squared distances)\n",
    "        score = abs(model.score(data))\n",
    "        score_list.append(score)\n",
    "        \n",
    "        print(\"Training complete for number of clusters:\", k)"
   ]
  },
  {
   "cell_type": "code",
   "execution_count": 176,
   "metadata": {},
   "outputs": [
    {
     "name": "stdout",
     "output_type": "stream",
     "text": [
      "Number of K clusters: [2, 4, 6, 8, 10, 12, 14, 16, 18, 20, 22, 24, 26, 28, 30]\n",
      "Training complete for number of clusters: 2\n",
      "Training complete for number of clusters: 4\n",
      "Training complete for number of clusters: 6\n",
      "Training complete for number of clusters: 8\n",
      "Training complete for number of clusters: 10\n",
      "Training complete for number of clusters: 12\n",
      "Training complete for number of clusters: 14\n",
      "Training complete for number of clusters: 16\n",
      "Training complete for number of clusters: 18\n",
      "Training complete for number of clusters: 20\n",
      "Training complete for number of clusters: 22\n",
      "Training complete for number of clusters: 24\n",
      "Training complete for number of clusters: 26\n",
      "Training complete for number of clusters: 28\n",
      "Training complete for number of clusters: 30\n"
     ]
    }
   ],
   "source": [
    "# Pass 15 numbers of K to the function, from 2 to 30 in steps of 2\n",
    "k_list = list(range(2,31,2))\n",
    "print(\"Number of K clusters:\", k_list)\n",
    "\n",
    "# initiate empty score lists\n",
    "awcd_list = []\n",
    "score_list = []\n",
    "\n",
    "# run function (takes a while)\n",
    "get_kmeans_metrics(demo_data_pca)"
   ]
  },
  {
   "cell_type": "code",
   "execution_count": 177,
   "metadata": {},
   "outputs": [
    {
     "name": "stdout",
     "output_type": "stream",
     "text": [
      "Number of clusters, Average within-cluster distance\n"
     ]
    },
    {
     "data": {
      "text/plain": [
       "[(2, 3.29016542754622),\n",
       " (4, 3.09598518136335),\n",
       " (6, 2.9988728545788104),\n",
       " (8, 2.9317097333503566),\n",
       " (10, 2.885203840291292),\n",
       " (12, 2.8471108654925867),\n",
       " (14, 2.8159306583766557),\n",
       " (16, 2.791538882335322),\n",
       " (18, 2.7705578531765243),\n",
       " (20, 2.75121761264068),\n",
       " (22, 2.7338596085553224),\n",
       " (24, 2.714091567925657),\n",
       " (26, 2.6979710268750394),\n",
       " (28, 2.6860261076091105),\n",
       " (30, 2.6674055798346803)]"
      ]
     },
     "execution_count": 177,
     "metadata": {},
     "output_type": "execute_result"
    }
   ],
   "source": [
    "# Investigate the change in within-cluster distance across number of clusters.\n",
    "# HINT: Use matplotlib's plot function to visualize this relationship.\n",
    "\n",
    "awcd_list_zipped = list(zip(k_list, awcd_list))\n",
    "\n",
    "print(\"Number of clusters, Average within-cluster distance\")\n",
    "awcd_list_zipped"
   ]
  },
  {
   "cell_type": "code",
   "execution_count": 178,
   "metadata": {},
   "outputs": [
    {
     "data": {
      "image/png": "[encoded data removed]",
      "text/plain": [
       "<Figure size 432x288 with 1 Axes>"
      ]
     },
     "metadata": {
      "needs_background": "light"
     },
     "output_type": "display_data"
    }
   ],
   "source": [
    "plt.plot(k_list, awcd_list)\n",
    "figsize=(16, 8)\n",
    "plt.title(\"Elbow plot\")\n",
    "plt.xlabel(\"Number of clusters\")\n",
    "plt.ylabel(\"Average within-cluster distance\");"
   ]
  },
  {
   "cell_type": "code",
   "execution_count": 148,
   "metadata": {},
   "outputs": [
    {
     "name": "stdout",
     "output_type": "stream",
     "text": [
      "KMeans(algorithm='auto', copy_x=True, init='k-means++', max_iter=300,\n",
      "    n_clusters=8, n_init=10, n_jobs=-1, precompute_distances='auto',\n",
      "    random_state=123, tol=0.0001, verbose=0)\n"
     ]
    }
   ],
   "source": [
    "# Re-fit the k-means model with the selected number of clusters and obtain\n",
    "# cluster predictions for the general population demographics data.\n",
    "\n",
    "# Initialize the model with K = 8 and a random seed for consistent results\n",
    "kmeans_demo_data = KMeans(n_clusters=8, random_state=123, n_jobs=-1)\n",
    "model_demo_data = kmeans_demo_data.fit(demo_data_pca)\n",
    "score_demo_data = abs(model_demo_data.score(demo_data_pca))\n",
    "\n",
    "# Cluster labels\n",
    "predictions_demo_data = kmeans_demo_data.predict(demo_data_pca) \n",
    "\n",
    "print(kmeans_demo_data)"
   ]
  },
  {
   "cell_type": "markdown",
   "metadata": {},
   "source": [
    "### Discussion 3.1: Apply Clustering to General Population\n",
    "\n",
    "The curve in the plot above has a pretty smooth bend between K = 4 and = 12. With the elbow method, there is no obvious number of K to choose for K-Means clustering - that is to say, the \"elbow\" isn't very sharp. Terefore K = 8 was chosen, the value in the middle of the bend."
   ]
  },
  {
   "cell_type": "markdown",
   "metadata": {},
   "source": [
    "### Step 3.2: Apply All Steps to the Customer Data\n",
    "\n",
    "Now that you have clusters and cluster centers for the general population, it's time to see how the customer data maps on to those clusters. Take care to not confuse this for re-fitting all of the models to the customer data. Instead, you're going to use the fits from the general population to clean, transform, and cluster the customer data. In the last step of the project, you will interpret how the general population fits apply to the customer data."
   ]
  },
  {
   "cell_type": "code",
   "execution_count": 144,
   "metadata": {},
   "outputs": [
    {
     "name": "stderr",
     "output_type": "stream",
     "text": [
      "C:\\Users\\chris\\Anaconda3\\lib\\site-packages\\sklearn\\preprocessing\\data.py:323: DataConversionWarning: Data with input dtype uint8, int64, float64 were all converted to float64 by MinMaxScaler.\n",
      "  return self.partial_fit(X, y)\n"
     ]
    }
   ],
   "source": [
    "# Apply preprocessing, feature transformation, and clustering from the general\n",
    "# demographics onto the customer data, obtaining cluster predictions for the\n",
    "# customer demographics data.\n",
    "\n",
    "# load in the customer demographics data\n",
    "customers = clean_data(\"Customers_Subset.csv\")\n",
    "\n",
    "# drop missing remaining rows with missing values\n",
    "customers = customers.dropna()\n",
    "\n",
    "# scale features\n",
    "customers_scaled = scaler.fit_transform(customers)\n",
    "\n",
    "# apply pca with 40 principal components\n",
    "customers_pca = pca.fit_transform(customers_scaled)\n",
    "customers_pca = pd.DataFrame(data=customers_pca)\n",
    "\n",
    "# cluster data without changing sklearn objects\n",
    "predictions_customers = kmeans_demo_data.predict(customers_pca)"
   ]
  },
  {
   "cell_type": "markdown",
   "metadata": {},
   "source": [
    "### Step 3.3: Compare Customer Data to Demographics Data\n",
    "\n",
    "At this point, you have clustered data based on demographics of the general population of country X, and seen how the customer data for a mail-order sales company maps onto those demographic clusters. In this final substep, you will compare the two cluster distributions to see where the strongest customer base for the company is.\n",
    "\n",
    "Consider the proportion of persons in each cluster for the general population, and the proportions for the customers. If we think the company's customer base to be universal, then the cluster assignment proportions should be fairly similar between the two. If there are only particular segments of the population that are interested in the company's products, then we should see a mismatch from one to the other. If there is a higher proportion of persons in a cluster for the customer data compared to the general population (e.g. 5% of persons are assigned to a cluster for the general population, but 15% of the customer data is closest to that cluster's centroid) then that suggests the people in that cluster to be a target audience for the company. On the other hand, the proportion of the data in a cluster being larger in the general population than the customer data (e.g. only 2% of customers closest to a population centroid that captures 6% of the data) suggests that group of persons to be outside of the target demographics.\n",
    "\n",
    "Take a look at the following points in this step:\n",
    "\n",
    "- Compute the proportion of data points in each cluster for the general population and the customer data. Visualizations will be useful here: both for the individual dataset proportions, but also to visualize the ratios in cluster representation between groups.\n",
    "- Recall the analysis you performed in step 1.1.3 of the project, where you separated out certain data points from the dataset if they had more than a specified threshold of missing values. If you found that this group was qualitatively different from the main bulk of the data, you should treat this as an additional data cluster in this analysis.\n",
    "- Which cluster or clusters are overrepresented in the customer dataset compared to the general population? Select at least one such cluster and infer what kind of people might be represented by that cluster. Use the principal component interpretations from step 2.3 or look at additional components to help you make this inference. Alternatively, you can use the `.inverse_transform()` method of the PCA and StandardScaler objects to transform centroids back to the original data space and interpret the retrieved values directly.\n",
    "- Perform a similar investigation for the underrepresented clusters. Which cluster or clusters are underrepresented in the customer dataset compared to the general population, and what kinds of people are typified by these clusters?"
   ]
  },
  {
   "cell_type": "code",
   "execution_count": null,
   "metadata": {},
   "outputs": [],
   "source": [
    "# Compare the proportion of data in each cluster for the customer data to the\n",
    "# proportion of data in each cluster for the general population."
   ]
  },
  {
   "cell_type": "code",
   "execution_count": 149,
   "metadata": {},
   "outputs": [
    {
     "data": {
      "image/png": "[encoded data removed]",
      "text/plain": [
       "<Figure size 432x288 with 1 Axes>"
      ]
     },
     "metadata": {
      "needs_background": "light"
     },
     "output_type": "display_data"
    }
   ],
   "source": [
    "sns.countplot(predictions_demo_data, color=base_color)\n",
    "plt.title(\"Demographics dataset: Number of observations per cluster\")\n",
    "plt.xlabel(\"Cluster ID\");"
   ]
  },
  {
   "cell_type": "code",
   "execution_count": 150,
   "metadata": {},
   "outputs": [
    {
     "data": {
      "image/png": "[encoded data removed]",
      "text/plain": [
       "<Figure size 432x288 with 1 Axes>"
      ]
     },
     "metadata": {
      "needs_background": "light"
     },
     "output_type": "display_data"
    }
   ],
   "source": [
    "sns.countplot(predictions_customers, color=base_color)\n",
    "plt.title(\"Customer dataset: Number of observations per cluster\")\n",
    "plt.xlabel(\"Cluster ID\");"
   ]
  },
  {
   "cell_type": "code",
   "execution_count": 159,
   "metadata": {},
   "outputs": [
    {
     "data": {
      "text/plain": [
       "[(0, 1.2416164606766846),\n",
       " (1, 0.7462028983935318),\n",
       " (2, 0.9702338438433986),\n",
       " (3, 0.805026189847869),\n",
       " (4, 1.3622491680532833),\n",
       " (5, 1.0115977764089412),\n",
       " (6, 0.9889971034438696),\n",
       " (7, 1.0108156197393807)]"
      ]
     },
     "execution_count": 159,
     "metadata": {},
     "output_type": "execute_result"
    }
   ],
   "source": [
    "# number of observations per cluster, demographics dataset\n",
    "counts_demo_data = np.unique(predictions_demo_data, return_counts=True)\n",
    "\n",
    "# number of observations per cluster, customers dataset\n",
    "counts_customers = np.unique(predictions_customers, return_counts=True)\n",
    "\n",
    "# Observations per cluster in customer dataset relative to the demographics dataset:\n",
    "list(zip(counts_demo_data[0], list((counts_customers[1]/len(customers_pca))/(counts_demo_data[1]/len(demo_data_pca)))))"
   ]
  },
  {
   "cell_type": "code",
   "execution_count": 158,
   "metadata": {},
   "outputs": [
    {
     "data": {
      "image/png": "[encoded data removed]",
      "text/plain": [
       "<Figure size 432x288 with 1 Axes>"
      ]
     },
     "metadata": {
      "needs_background": "light"
     },
     "output_type": "display_data"
    }
   ],
   "source": [
    "x = counts_demo_data[0]\n",
    "y = (counts_customers[1]/len(customers_pca))/(counts_demo_data[1]/len(demo_data_pca))-1\n",
    "\n",
    "sns.barplot(x, y, color = base_color)\n",
    "plt.title(\"Observations in customers dataset relative to demogrpahics dataset\")\n",
    "plt.xlabel(\"Cluster ID\")\n",
    "plt.ylabel(\"Relative number of observations\");"
   ]
  },
  {
   "cell_type": "code",
   "execution_count": null,
   "metadata": {},
   "outputs": [],
   "source": [
    "# in cluster 4 , the customers dataset has about 35% more observations\n",
    "# in cluster 1, the customers dataset has about 25% less"
   ]
  },
  {
   "cell_type": "code",
   "execution_count": 160,
   "metadata": {},
   "outputs": [],
   "source": [
    "# What kinds of people are part of a cluster that is overrepresented in the\n",
    "# customer data compared to the general population?\n",
    "\n",
    "# generate a dataframe with the feature names as index, \n",
    "# one column with the column means for all observations in the demographics dataset where the cluster has the ID 4,  \n",
    "# one column with the column means of the rows in all other clusters combined, and\n",
    "# one column with the ratio between the first two columns\n",
    "\n",
    "labels_demo_data = pd.DataFrame(predictions_demo_data)\n",
    "labels_demo_data = labels_demo_data.rename(columns = {0: \"Cluster\"})\n",
    "demo_data_end = demo_data.reset_index()\n",
    "demo_data_end = pd.concat([demo_data_end, labels_demo_data], axis=1)\n",
    "demo_data_end = demo_data_end.drop(columns=\"index\")\n",
    "\n",
    "# column means of demographic data where cluster = 4\n",
    "means_4 = demo_data_end[demo_data_end[\"Cluster\"] == 4].mean(axis=0)\n",
    "\n",
    "# column means of demographic data where cluster != 4\n",
    "means_not4 = demo_data_end[demo_data_end[\"Cluster\"] != 4].mean(axis=0)\n",
    "\n",
    "mean_comp = pd.DataFrame(data = {\"Cluster = 4\": means_4, \"Cluster != 4\": means_not4})\n",
    "mean_comp[\"Relative Difference\"] = mean_comp[\"Cluster = 4\"]/mean_comp[\"Cluster != 4\"]\n",
    "mean_comp = mean_comp.drop(\"Cluster\")\n",
    "mean_comp_sorted = mean_comp.sort_values(by = \"Relative Difference\", ascending = False)"
   ]
  },
  {
   "cell_type": "code",
   "execution_count": 163,
   "metadata": {},
   "outputs": [
    {
     "data": {
      "text/html": [
       "<div>\n",
       "<style scoped>\n",
       "    .dataframe tbody tr th:only-of-type {\n",
       "        vertical-align: middle;\n",
       "    }\n",
       "\n",
       "    .dataframe tbody tr th {\n",
       "        vertical-align: top;\n",
       "    }\n",
       "\n",
       "    .dataframe thead th {\n",
       "        text-align: right;\n",
       "    }\n",
       "</style>\n",
       "<table border=\"1\" class=\"dataframe\">\n",
       "  <thead>\n",
       "    <tr style=\"text-align: right;\">\n",
       "      <th></th>\n",
       "      <th>Cluster = 4</th>\n",
       "      <th>Cluster != 4</th>\n",
       "      <th>Relative Difference</th>\n",
       "    </tr>\n",
       "  </thead>\n",
       "  <tbody>\n",
       "    <tr>\n",
       "      <th>20_5.0</th>\n",
       "      <td>0.218013</td>\n",
       "      <td>0.002619</td>\n",
       "      <td>83.227944</td>\n",
       "    </tr>\n",
       "    <tr>\n",
       "      <th>11_4</th>\n",
       "      <td>0.283685</td>\n",
       "      <td>0.042428</td>\n",
       "      <td>6.686250</td>\n",
       "    </tr>\n",
       "    <tr>\n",
       "      <th>20_4.0</th>\n",
       "      <td>0.331967</td>\n",
       "      <td>0.060204</td>\n",
       "      <td>5.514040</td>\n",
       "    </tr>\n",
       "    <tr>\n",
       "      <th>18_6.0</th>\n",
       "      <td>0.032312</td>\n",
       "      <td>0.006891</td>\n",
       "      <td>4.689054</td>\n",
       "    </tr>\n",
       "    <tr>\n",
       "      <th>11_3</th>\n",
       "      <td>0.121316</td>\n",
       "      <td>0.028268</td>\n",
       "      <td>4.291577</td>\n",
       "    </tr>\n",
       "    <tr>\n",
       "      <th>20_8.0</th>\n",
       "      <td>0.051864</td>\n",
       "      <td>0.012471</td>\n",
       "      <td>4.158664</td>\n",
       "    </tr>\n",
       "    <tr>\n",
       "      <th>21_2.0</th>\n",
       "      <td>0.621886</td>\n",
       "      <td>0.159412</td>\n",
       "      <td>3.901136</td>\n",
       "    </tr>\n",
       "    <tr>\n",
       "      <th>18_3.0</th>\n",
       "      <td>0.015413</td>\n",
       "      <td>0.004425</td>\n",
       "      <td>3.483361</td>\n",
       "    </tr>\n",
       "    <tr>\n",
       "      <th>13_9.0</th>\n",
       "      <td>0.165181</td>\n",
       "      <td>0.052607</td>\n",
       "      <td>3.139930</td>\n",
       "    </tr>\n",
       "    <tr>\n",
       "      <th>57_8.0</th>\n",
       "      <td>0.018292</td>\n",
       "      <td>0.006374</td>\n",
       "      <td>2.869558</td>\n",
       "    </tr>\n",
       "  </tbody>\n",
       "</table>\n",
       "</div>"
      ],
      "text/plain": [
       "        Cluster = 4  Cluster != 4  Relative Difference\n",
       "20_5.0     0.218013      0.002619            83.227944\n",
       "11_4       0.283685      0.042428             6.686250\n",
       "20_4.0     0.331967      0.060204             5.514040\n",
       "18_6.0     0.032312      0.006891             4.689054\n",
       "11_3       0.121316      0.028268             4.291577\n",
       "20_8.0     0.051864      0.012471             4.158664\n",
       "21_2.0     0.621886      0.159412             3.901136\n",
       "18_3.0     0.015413      0.004425             3.483361\n",
       "13_9.0     0.165181      0.052607             3.139930\n",
       "57_8.0     0.018292      0.006374             2.869558"
      ]
     },
     "execution_count": 163,
     "metadata": {},
     "output_type": "execute_result"
    }
   ],
   "source": [
    "# display first 10 lines in the dataframe\n",
    "mean_comp_sorted.head(10)"
   ]
  },
  {
   "cell_type": "code",
   "execution_count": 164,
   "metadata": {},
   "outputs": [],
   "source": [
    "# drop column 20_5.0 because of the huge ratio - above 80 - which would make the graphs below hard to read\n",
    "# This large ratio might be due to a low number of observations\n",
    "mean_comp_sorted = mean_comp_sorted.drop(\"20_5.0\")"
   ]
  },
  {
   "cell_type": "code",
   "execution_count": 166,
   "metadata": {},
   "outputs": [
    {
     "data": {
      "image/png": "[encoded data removed]",
      "text/plain": [
       "<Figure size 1152x288 with 1 Axes>"
      ]
     },
     "metadata": {
      "needs_background": "light"
     },
     "output_type": "display_data"
    }
   ],
   "source": [
    "plt.figure(figsize=(16, 4))\n",
    "sns.barplot(mean_comp_sorted.index[0:50], mean_comp_sorted[\"Relative Difference\"][0:50], color = base_color)\n",
    "plt.xticks(rotation = 90)\n",
    "plt.title(\"Highest ratios in column means in cluster 4 relative to all others in the demographics dataset\")\n",
    "plt.xlabel(\"Cluster ID\")\n",
    "plt.ylabel(\"Ratio in column means\");"
   ]
  },
  {
   "cell_type": "code",
   "execution_count": 168,
   "metadata": {},
   "outputs": [
    {
     "data": {
      "image/png": "[encoded data removed]",
      "text/plain": [
       "<Figure size 1152x288 with 1 Axes>"
      ]
     },
     "metadata": {
      "needs_background": "light"
     },
     "output_type": "display_data"
    }
   ],
   "source": [
    "plt.figure(figsize=(16, 4))\n",
    "sns.barplot(mean_comp_sorted.index[-50:], mean_comp_sorted[\"Relative Difference\"][-50:], color = base_color)\n",
    "plt.xticks(rotation = 90)\n",
    "plt.title(\"Lowest ratios in column means in cluster 4 relative to all others in the demographics dataset\")\n",
    "plt.xlabel(\"Cluster ID\")\n",
    "plt.ylabel(\"Ratio in column means\");"
   ]
  },
  {
   "cell_type": "code",
   "execution_count": null,
   "metadata": {},
   "outputs": [],
   "source": [
    "# What kinds of people are part of a cluster that is underrepresented in the\n",
    "# customer data compared to the general population?"
   ]
  },
  {
   "cell_type": "code",
   "execution_count": 170,
   "metadata": {},
   "outputs": [],
   "source": [
    "# generate a dataframe with the feature names as index, \n",
    "# one column with the column means for all observations in the demographics dataset where the cluster has the ID 1,  \n",
    "# one column with the column means of the rows in all other clusters combined, and\n",
    "# one column with the ratio between the first two columns\n",
    "\n",
    "labels_demo_data = pd.DataFrame(predictions_demo_data)\n",
    "labels_demo_data = labels_demo_data.rename(columns = {0: \"Cluster\"})\n",
    "demo_data_end = demo_data.reset_index()\n",
    "demo_data_end = pd.concat([demo_data_end, labels_demo_data], axis=1)\n",
    "demo_data_end = demo_data_end.drop(columns = \"index\")\n",
    "\n",
    "# column means of demographic data where cluster = 1\n",
    "means_1 = demo_data_end[demo_data_end[\"Cluster\"] == 1].mean(axis=0)\n",
    "\n",
    "# column means of demographic data where cluster != 1\n",
    "means_not1 = demo_data_end[demo_data_end[\"Cluster\"] != 1].mean(axis=0)\n",
    "\n",
    "mean_comp = pd.DataFrame(data = {\"Cluster = 1\": means_1, \"Cluster != 1\": means_not1})\n",
    "mean_comp[\"Relative Difference\"] = mean_comp[\"Cluster = 1\"]/mean_comp[\"Cluster != 1\"]\n",
    "mean_comp = mean_comp.drop(\"Cluster\")\n",
    "mean_comp_sorted = mean_comp.sort_values(by = \"Relative Difference\", ascending = False)"
   ]
  },
  {
   "cell_type": "code",
   "execution_count": 171,
   "metadata": {},
   "outputs": [
    {
     "data": {
      "text/html": [
       "<div>\n",
       "<style scoped>\n",
       "    .dataframe tbody tr th:only-of-type {\n",
       "        vertical-align: middle;\n",
       "    }\n",
       "\n",
       "    .dataframe tbody tr th {\n",
       "        vertical-align: top;\n",
       "    }\n",
       "\n",
       "    .dataframe thead th {\n",
       "        text-align: right;\n",
       "    }\n",
       "</style>\n",
       "<table border=\"1\" class=\"dataframe\">\n",
       "  <thead>\n",
       "    <tr style=\"text-align: right;\">\n",
       "      <th></th>\n",
       "      <th>Cluster = 1</th>\n",
       "      <th>Cluster != 1</th>\n",
       "      <th>Relative Difference</th>\n",
       "    </tr>\n",
       "  </thead>\n",
       "  <tbody>\n",
       "    <tr>\n",
       "      <th>20_9.0</th>\n",
       "      <td>0.885585</td>\n",
       "      <td>0.029328</td>\n",
       "      <td>30.196178</td>\n",
       "    </tr>\n",
       "    <tr>\n",
       "      <th>21_4.0</th>\n",
       "      <td>0.932841</td>\n",
       "      <td>0.041342</td>\n",
       "      <td>22.563939</td>\n",
       "    </tr>\n",
       "    <tr>\n",
       "      <th>57_8.0</th>\n",
       "      <td>0.024689</td>\n",
       "      <td>0.004881</td>\n",
       "      <td>5.058507</td>\n",
       "    </tr>\n",
       "    <tr>\n",
       "      <th>20_8.0</th>\n",
       "      <td>0.047256</td>\n",
       "      <td>0.012014</td>\n",
       "      <td>3.933283</td>\n",
       "    </tr>\n",
       "    <tr>\n",
       "      <th>57_7.0</th>\n",
       "      <td>0.539817</td>\n",
       "      <td>0.154874</td>\n",
       "      <td>3.485517</td>\n",
       "    </tr>\n",
       "    <tr>\n",
       "      <th>13_6.0</th>\n",
       "      <td>0.075779</td>\n",
       "      <td>0.025833</td>\n",
       "      <td>2.933356</td>\n",
       "    </tr>\n",
       "    <tr>\n",
       "      <th>13_7.0</th>\n",
       "      <td>0.108665</td>\n",
       "      <td>0.040291</td>\n",
       "      <td>2.697006</td>\n",
       "    </tr>\n",
       "    <tr>\n",
       "      <th>11_2</th>\n",
       "      <td>0.254765</td>\n",
       "      <td>0.105067</td>\n",
       "      <td>2.424790</td>\n",
       "    </tr>\n",
       "    <tr>\n",
       "      <th>58_4</th>\n",
       "      <td>0.254775</td>\n",
       "      <td>0.106415</td>\n",
       "      <td>2.394159</td>\n",
       "    </tr>\n",
       "    <tr>\n",
       "      <th>58_3</th>\n",
       "      <td>0.200719</td>\n",
       "      <td>0.084749</td>\n",
       "      <td>2.368400</td>\n",
       "    </tr>\n",
       "  </tbody>\n",
       "</table>\n",
       "</div>"
      ],
      "text/plain": [
       "        Cluster = 1  Cluster != 1  Relative Difference\n",
       "20_9.0     0.885585      0.029328            30.196178\n",
       "21_4.0     0.932841      0.041342            22.563939\n",
       "57_8.0     0.024689      0.004881             5.058507\n",
       "20_8.0     0.047256      0.012014             3.933283\n",
       "57_7.0     0.539817      0.154874             3.485517\n",
       "13_6.0     0.075779      0.025833             2.933356\n",
       "13_7.0     0.108665      0.040291             2.697006\n",
       "11_2       0.254765      0.105067             2.424790\n",
       "58_4       0.254775      0.106415             2.394159\n",
       "58_3       0.200719      0.084749             2.368400"
      ]
     },
     "execution_count": 171,
     "metadata": {},
     "output_type": "execute_result"
    }
   ],
   "source": [
    "# display first 10 lines in the dataframe\n",
    "mean_comp_sorted.head(10)"
   ]
  },
  {
   "cell_type": "code",
   "execution_count": 172,
   "metadata": {},
   "outputs": [
    {
     "data": {
      "image/png": "[encoded data removed]",
      "text/plain": [
       "<Figure size 1152x288 with 1 Axes>"
      ]
     },
     "metadata": {
      "needs_background": "light"
     },
     "output_type": "display_data"
    }
   ],
   "source": [
    "plt.figure(figsize=(16, 4))\n",
    "sns.barplot(mean_comp_sorted.index[0:50], mean_comp_sorted[\"Relative Difference\"][0:50], color = base_color)\n",
    "plt.xticks(rotation = 90)\n",
    "plt.title(\"Highest ratios in column means in cluster 1 relative to all others in the demographics dataset\")\n",
    "plt.xlabel(\"Cluster ID\")\n",
    "plt.ylabel(\"Ratio in column means\");"
   ]
  },
  {
   "cell_type": "code",
   "execution_count": 174,
   "metadata": {},
   "outputs": [
    {
     "data": {
      "image/png": "[encoded data removed]",
      "text/plain": [
       "<Figure size 1152x288 with 1 Axes>"
      ]
     },
     "metadata": {
      "needs_background": "light"
     },
     "output_type": "display_data"
    }
   ],
   "source": [
    "plt.figure(figsize=(16, 4))\n",
    "sns.barplot(mean_comp_sorted.index[-50:], mean_comp_sorted[\"Relative Difference\"][-50:], color = base_color)\n",
    "plt.xticks(rotation = 90)\n",
    "plt.title(\"Lowest ratios in column means in cluster 1 relative to all others in the demographics dataset\")\n",
    "plt.xlabel(\"Cluster ID\")\n",
    "plt.ylabel(\"Ratio in column means\");"
   ]
  },
  {
   "cell_type": "markdown",
   "metadata": {},
   "source": [
    "### Discussion 3.3: Compare Customer Data to Demographics Data\n",
    "\n",
    "There are lots of variables in this dataset, so I'll focus on the most \"extreme\" clusters, 4 and 1, and the features with the highest ratios.\n",
    "\n",
    "###### Popular population segments\n",
    "\n",
    "Removed due to confidentiality. A discussion of anonymized and therefore meaningless variable names is not very insightful anyway.\n",
    "\n",
    "##### Unpopular population segments\n",
    "\n",
    "Removed due to confidentiality. A discussion of anonymized and therefore meaningless variable names is not very insightful anyway."
   ]
  }
 ],
 "metadata": {
  "kernelspec": {
   "display_name": "Python 3",
   "language": "python",
   "name": "python3"
  },
  "language_info": {
   "codemirror_mode": {
    "name": "ipython",
    "version": 3
   },
   "file_extension": ".py",
   "mimetype": "text/x-python",
   "name": "python",
   "nbconvert_exporter": "python",
   "pygments_lexer": "ipython3",
   "version": "3.7.1"
  }
 },
 "nbformat": 4,
 "nbformat_minor": 2
}
